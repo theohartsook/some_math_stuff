{
 "cells": [
  {
   "cell_type": "markdown",
   "metadata": {},
   "source": [
    "*Note*: I don't think these worked problems make as much sense as a Jupyter Notebook, but I wanted to keep the streak going.\n",
    "\n",
    "## 1.3A\n",
    "**Question:** Find the solution *x* for any *b*. From *x* = *A*<sup>-1</sup>*b* read off the inverse matrix *A*<sup>-1</sup>."
   ]
  },
  {
   "cell_type": "code",
   "execution_count": 24,
   "metadata": {
    "scrolled": true
   },
   "outputs": [
    {
     "name": "stdout",
     "output_type": "stream",
     "text": [
      "A\n",
      "[1 0 0]\n",
      "[-1  1  0]\n",
      "[ 1 -1  1]\n",
      "\n",
      "\n",
      "x\n",
      "['x1']\n",
      "['x2']\n",
      "['x3']\n",
      "\n",
      "\n",
      "Ax\n",
      "['x1']\n",
      "['-x1 + x2']\n",
      "['x1 - x2 + x3']\n",
      "\n",
      "\n",
      "b\n",
      "['b1']\n",
      "['b2']\n",
      "['b3']\n",
      "\n",
      "\n"
     ]
    }
   ],
   "source": [
    "# Import necessary libraries\n",
    "import numpy as np\n",
    "\n",
    "def printArray(a, title=None):\n",
    "    # Convenience function to print the array values.\n",
    "    num_rows, num_cols = a.shape\n",
    "    if title:\n",
    "        print(title)\n",
    "    for i in range(0,num_rows):\n",
    "        print(a[i][:])\n",
    "    print('\\n')\n",
    "\n",
    "# Initialize A\n",
    "A = np.array([[1,0,0],[-1,1,0],[1,-1,1]])\n",
    "printArray(A, 'A')\n",
    "\n",
    "# Initialize x (for display)\n",
    "x = np.array([['x1'],['x2'],['x3']])\n",
    "printArray(x,'x')\n",
    "\n",
    "# Initialize Ax (for display)\n",
    "Ax = np.array([['x1'],['-x1 + x2'], ['x1 - x2 + x3']])\n",
    "printArray(Ax,'Ax')\n",
    "\n",
    "# Initialize b (for display)\n",
    "b = np.array([['b1'],['b2'],['b3']])\n",
    "printArray(b,'b')"
   ]
  },
  {
   "cell_type": "markdown",
   "metadata": {},
   "source": [
    "We can solve *Ax* = *b* to see that:  \n",
    "*x*<sub>1</sub> = *b*<sub>1</sub>  \n",
    "*x*<sub>2</sub> = *b*<sub>1</sub> + *b*<sub>2</sub>  \n",
    "*x*<sub>3</sub> = *b*<sub>2</sub> + *b*<sub>3</sub>  \n",
    "To solve this with numpy we can call linalg.inv() on A."
   ]
  },
  {
   "cell_type": "code",
   "execution_count": 25,
   "metadata": {},
   "outputs": [
    {
     "name": "stdout",
     "output_type": "stream",
     "text": [
      "A inverse\n",
      "[1. 0. 0.]\n",
      "[1. 1. 0.]\n",
      "[0. 1. 1.]\n",
      "\n",
      "\n"
     ]
    }
   ],
   "source": [
    "A_inv = np.linalg.inv(A)\n",
    "printArray(A_inv, 'A inverse')"
   ]
  },
  {
   "cell_type": "markdown",
   "metadata": {},
   "source": [
    "## 1.3B\n",
    "**Question:** This *E* is an elimination matrix. *E* has a subtraction and *E<sup>-1</sup>* has an addition.  "
   ]
  },
  {
   "cell_type": "code",
   "execution_count": 32,
   "metadata": {},
   "outputs": [
    {
     "name": "stdout",
     "output_type": "stream",
     "text": [
      "E\n",
      "['1' '0']\n",
      "['-l' '1']\n",
      "\n",
      "\n",
      "b\n",
      "['b1']\n",
      "['b2']\n",
      "\n",
      "\n",
      "x\n",
      "['x1']\n",
      "['x2']\n",
      "['x3']\n",
      "\n",
      "\n",
      "Ex\n",
      "['x1' '0']\n",
      "['x2' '-l*x1']\n",
      "\n",
      "\n"
     ]
    }
   ],
   "source": [
    "# Initialize E\n",
    "E = np.array([[1,0],['-l', 1]])\n",
    "printArray(E, 'E')\n",
    "\n",
    "# Initialize b\n",
    "b = np.array([['b1'],['b2']])\n",
    "printArray(b,'b')\n",
    "\n",
    "# Initialize x\n",
    "b = np.array([['x1'],['x2']])\n",
    "printArray(x,'x')\n",
    "\n",
    "# Initialize Ex\n",
    "Ex = np.array([['x1',0],['x2', '-l*x1']])\n",
    "printArray(Ex, 'Ex')"
   ]
  },
  {
   "cell_type": "markdown",
   "metadata": {},
   "source": [
    "We can solve *b* = *Ex*  to find that:  \n",
    "*b<sub>1</sub>* = *x<sub>1</sub>*  \n",
    "*b<sub>2</sub>* = *x<sub>2</sub>* - *lx<sub>1</sub>*  "
   ]
  },
  {
   "cell_type": "markdown",
   "metadata": {},
   "source": [
    "To find *E<sup>-1</sup>* we can solve *x* = *E<sup>-1</sup>x* to find that:  \n",
    "*x<sub>1</sub>* = *b<sub>1</sub>*  \n",
    "*x<sub>2</sub>* = *lb<sub>1</sub>* + *b<sub>2</sub>*  "
   ]
  },
  {
   "cell_type": "code",
   "execution_count": 33,
   "metadata": {},
   "outputs": [
    {
     "name": "stdout",
     "output_type": "stream",
     "text": [
      "E_inv\n",
      "['1' '0']\n",
      "['l' '1']\n",
      "\n",
      "\n"
     ]
    }
   ],
   "source": [
    "# Initialize E_inv\n",
    "E_inv = np.array([[1,0],['l', 1]])\n",
    "printArray(E_inv, 'E_inv')"
   ]
  },
  {
   "cell_type": "markdown",
   "metadata": {},
   "source": [
    "Like in 1.3A, we can find the inverse of a numpy array with linalg.inv(). Here is an example where *l* = 5."
   ]
  },
  {
   "cell_type": "code",
   "execution_count": 34,
   "metadata": {},
   "outputs": [
    {
     "name": "stdout",
     "output_type": "stream",
     "text": [
      "E\n",
      "[1 0]\n",
      "[5 1]\n",
      "\n",
      "\n",
      "E_inv\n",
      "[1. 0.]\n",
      "[-5.  1.]\n",
      "\n",
      "\n"
     ]
    }
   ],
   "source": [
    "# Initialize E\n",
    "E = np.array([[1,0],[5, 1]])\n",
    "printArray(E, 'E')\n",
    "\n",
    "# Initialize E_inv\n",
    "E_inv = np.linalg.inv(E)\n",
    "printArray(E_inv, 'E_inv')"
   ]
  },
  {
   "cell_type": "markdown",
   "metadata": {},
   "source": [
    "## 1.3C\n",
    "**Question:** Change *C* from a cyclic difference to a centered difference producing *x<sub>3</sub>* - *x<sub>1</sub>*:"
   ]
  },
  {
   "cell_type": "code",
   "execution_count": 38,
   "metadata": {},
   "outputs": [
    {
     "name": "stdout",
     "output_type": "stream",
     "text": [
      "C\n",
      "[0 1 0]\n",
      "[-1  0  1]\n",
      "[ 0 -1  0]\n",
      "\n",
      "\n",
      "x\n",
      "['x1']\n",
      "['x2']\n",
      "['x3']\n",
      "\n",
      "\n",
      "b\n",
      "['b1']\n",
      "['b2']\n",
      "['b3']\n",
      "\n",
      "\n",
      "Cx\n",
      "['x2-0']\n",
      "['x3-x1']\n",
      "['0-x2']\n",
      "\n",
      "\n"
     ]
    }
   ],
   "source": [
    "# Initialize C\n",
    "C = np.array([[0,1,0],[-1,0,1],[0,-1,0]])\n",
    "printArray(C, 'C')\n",
    "\n",
    "# Initialize x\n",
    "x = np.array([['x1'],['x2'],['x3']])\n",
    "printArray(x, 'x')\n",
    "\n",
    "# Initialize b\n",
    "b = np.array([['b1'],['b2'],['b3']])\n",
    "printArray(b, 'b')\n",
    "\n",
    "# Initialize Cx\n",
    "Cx = np.array([['x2-0'],['x3-x1'],['0-x2']])\n",
    "printArray(Cx, 'Cx')"
   ]
  },
  {
   "cell_type": "markdown",
   "metadata": {},
   "source": [
    "*Cx* is a cylic difference because *b<sub>1</sub>* and *b<sub>3</sub>* depend on *x<sub>2</sub>*. This means that it forms a plane in 3D space, rather than filling it entirely. However, if we change *C* to a 4x4 matrix we can make a centered difference."
   ]
  },
  {
   "cell_type": "code",
   "execution_count": 39,
   "metadata": {},
   "outputs": [
    {
     "name": "stdout",
     "output_type": "stream",
     "text": [
      "C\n",
      "[0 1 0 0]\n",
      "[-1  0  1  0]\n",
      "[ 0 -1  0  1]\n",
      "[ 0  0 -1  0]\n",
      "\n",
      "\n",
      "x\n",
      "['x1']\n",
      "['x2']\n",
      "['x3']\n",
      "['x4']\n",
      "\n",
      "\n",
      "b\n",
      "['b1']\n",
      "['b2']\n",
      "['b3']\n",
      "['b4']\n",
      "\n",
      "\n",
      "Cx\n",
      "['x2-0']\n",
      "['x3-x1']\n",
      "['x4-x2']\n",
      "['0-x3']\n",
      "\n",
      "\n"
     ]
    }
   ],
   "source": [
    "# Initialize C\n",
    "C = np.array([[0,1,0,0],[-1,0,1,0],[0,-1,0,1],[0,0,-1,0]])\n",
    "printArray(C, 'C')\n",
    "\n",
    "# Initialize x\n",
    "x = np.array([['x1'],['x2'],['x3'],['x4']])\n",
    "printArray(x, 'x')\n",
    "\n",
    "# Initialize b\n",
    "b = np.array([['b1'],['b2'],['b3'],['b4']])\n",
    "printArray(b, 'b')\n",
    "\n",
    "# Initialize Cx\n",
    "Cx = np.array([['x2-0'],['x3-x1'],['x4-x2'],['0-x3']])\n",
    "printArray(Cx, 'Cx')"
   ]
  }
 ],
 "metadata": {
  "kernelspec": {
   "display_name": "Python 3",
   "language": "python",
   "name": "python3"
  },
  "language_info": {
   "codemirror_mode": {
    "name": "ipython",
    "version": 3
   },
   "file_extension": ".py",
   "mimetype": "text/x-python",
   "name": "python",
   "nbconvert_exporter": "python",
   "pygments_lexer": "ipython3",
   "version": "3.8.5"
  }
 },
 "nbformat": 4,
 "nbformat_minor": 4
}
