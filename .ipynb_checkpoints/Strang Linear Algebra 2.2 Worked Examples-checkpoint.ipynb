{
 "cells": [
  {
   "cell_type": "markdown",
   "metadata": {},
   "source": [
    "## 2.2A\n",
    "**Question:** When elimination is applied to this matrix *A*, what are the first and second pivots? What is the multipler *l*<sub>21</sub> in the first step (*l*<sub>21</sub> times row 1 is subtracted from row 2)? What entry in the 2, 2 position (instead of 2) would force an exchange of rows 2 and 3? Why is the lower left multiplier *l*<sub>31</sub> = 0, subtracting 0 times row 1 from row 3? If you change the corner entry from *a*<sub>33</sub> = 2 to *a*<sub>33</sub> = 1, why does elimination fail?  \n",
    "$$A= \\begin{bmatrix} 1 & 1 & 0 \\\\ 1 & 2 & 1 \\\\ 0 & 1 & 2 \\end{bmatrix} \\rightarrow \\begin{bmatrix} 1 & 1 & 0 \\\\ 0 & 1 & 1 \\\\ 0 & 1 & 2 \\end{bmatrix} \\rightarrow \\begin{bmatrix} 1 & 1 & 0 \\\\ 0 & 1 & 1 \\\\ 0 & 0 & 1 \\end{bmatrix} =U$$  "
   ]
  },
  {
   "cell_type": "markdown",
   "metadata": {},
   "source": [
    "I learned today that I can use LaTeX in Jupyter notebooks, so even though I'm not doing a bunch of Python here, I still learned some stuff!  \n",
    "The first pivot is *a*<sub>11</sub> which is 1. Subtracting row 1 from row 2 gives us the second matrix above. Since *a*<sub>31</sub> is already 0, we don't have to do anymore with the first pivot. The second pivot is *a*<sub>22</sub>, which is 1 again. Subtracting row 2 from row 3 gives the triangular matrix *U*.  \n",
    "If *a*<sub>22</sub> = 1, we would need to exchange rows 2 and 3 to avoid a 0 pivot.  \n",
    "$$A= \\begin{bmatrix} 1 & 1 & 0 \\\\ 0 & 1 & 1 \\\\ 0 & 1 & 2 \\end{bmatrix} \\rightarrow \\begin{bmatrix} 1 & 1 & 0 \\\\ 0 & 0 & 1 \\\\ 0 & 1 & 2 \\end{bmatrix} \\xrightarrow[\\text{2 and 3}]{\\text{exchange rows}} \\begin{bmatrix} 1 & 1 & 0 \\\\ 0 & 1 & 2 \\\\ 0 & 0 & 1 \\end{bmatrix} =U$$  \n",
    "If we change *a*<sub>33</sub> = 2 to *a*<sub>33</sub> = 1, elimination fails because we end up with a 0 pivot we can't exchange:  \n",
    "$$A= \\begin{bmatrix} 1 & 1 & 0 \\\\ 1 & 2 & 1 \\\\ 0 & 1 & 1 \\end{bmatrix} \\rightarrow \\begin{bmatrix} 1 & 1 & 0 \\\\ 0 & 1 & 1 \\\\ 0 & 0 & 0 \\end{bmatrix}$$"
   ]
  },
  {
   "cell_type": "markdown",
   "metadata": {},
   "source": [
    "## 2.2B\n",
    "**Question:** Suppose *A* is already a triangular matrix (upper or lower). Where do you see its pivots? When does *Ax* = *b* have exactly one solution for every *b*?  "
   ]
  },
  {
   "cell_type": "markdown",
   "metadata": {},
   "source": [
    "The pivots will be found in a diagonal line. In a 3x3 example, the pivots are *a*<sub>11</sub>, *a*<sub>22</sub>, and *a*<sub>33</sub>. In a *m*x*m* matrix, the pivotes are *a*<sub>11</sub>, *a*<sub>22</sub>, ..., *a*<sub>*mm*</sub>. As long as none of the pivots are 0, there will be exactly one solution."
   ]
  },
  {
   "cell_type": "markdown",
   "metadata": {},
   "source": [
    "## 2.2C\n",
    "**Question:** Use elimination to reach upper triangular matrices *U*. Solve by back substitution or explain why this is impossible. What are the pivots (never zero)? Exchange equations when necessary. The only difference is the -*x* in the last equation.  \n",
    "**Success**  \n",
    "*x* + *y* + *z* = 7  \n",
    "*x* + *y* - *z* = 5  \n",
    "*x* - *y* + *z* = 3  \n",
    "  \n",
    "**Failure**  \n",
    "*x* + *y* + *z* = 7  \n",
    "*x* + *y* - *z* = 5  \n",
    "-*x* - *y* + *z* = 3  "
   ]
  },
  {
   "cell_type": "markdown",
   "metadata": {},
   "source": [
    "I'll start with the success example by converting it to matrix form:  \n",
    "$$A= \\begin{bmatrix} 1 & 1 & 1 \\\\ 1 & 1 & -1 \\\\ 1 & -1 & 1 \\end{bmatrix} \\begin{bmatrix} x \\\\ y \\\\ z\\end{bmatrix} = \\begin{bmatrix} 7 \\\\ 5 \\\\ 3\\end{bmatrix}$$ \n"
   ]
  },
  {
   "cell_type": "markdown",
   "metadata": {},
   "source": [
    "First we eliminate *a*<sub>21</sub> and *a*<sub>31</sub>:  \n",
    "$$A= \\begin{bmatrix} 1 & 1 & 1 \\\\ 1 & 1 & -1 \\\\ 1 & -1 & 1 \\end{bmatrix} \\xrightarrow[\\text{from row 2}]{\\text{subtract row 1}} \\begin{bmatrix} 1 & 1 & 0 \\\\ 0 & 0 & -2 \\\\ 1 & -1 & 1 \\end{bmatrix} \\xrightarrow[\\text{from row 3}]{\\text{subtract row 1}} \\begin{bmatrix} 1 & 1 & 0 \\\\ 0 & 0 & -2 \\\\ 0 & -2 & 0 \\end{bmatrix}$$\n",
    "Since we have a 0 pivot in row 2, we need to exchange rows 2 and 3 to get *U*:  \n",
    "$$\\begin{bmatrix} 1 & 1 & 0 \\\\ 0 & 0 & -2 \\\\ 0 & -2 & 0 \\end{bmatrix} \\xrightarrow[\\text{2 and 3}]{\\text{exchange rows}} \\begin{bmatrix} 1 & 1 & 0 \\\\ 0 & -2 & 0 \\\\ 0 & 0 & -2 \\end{bmatrix} = U$$\n",
    "After back substitution, we see that:  \n",
    "*x* = 4  \n",
    "*y* = 2  \n",
    "*z* = 1  \n",
    "Our pivots were 1, -2, and -2."
   ]
  },
  {
   "cell_type": "markdown",
   "metadata": {},
   "source": [
    "Now let's do the failure example:  \n",
    "$$A= \\begin{bmatrix} 1 & 1 & 1 \\\\ 1 & 1 & -1 \\\\ -1 & -1 & 1 \\end{bmatrix} \\begin{bmatrix} x \\\\ y \\\\ z\\end{bmatrix} = \\begin{bmatrix} 7 \\\\ 5 \\\\ 3\\end{bmatrix}$$ "
   ]
  },
  {
   "cell_type": "markdown",
   "metadata": {},
   "source": [
    "$$A= \\begin{bmatrix} 1 & 1 & 1 \\\\ 1 & 1 & -1 \\\\ -1 & -1 & 1 \\end{bmatrix} \\xrightarrow[\\text{from row 2}]{\\text{subtract row 1}} \\begin{bmatrix} 1 & 1 & 0 \\\\ 0 & 0 & -2 \\\\ -1 & -1 & 1 \\end{bmatrix} \\xrightarrow[\\text{from row 3}]{\\text{subtract row 1}} \\begin{bmatrix} 1 & 1 & 0 \\\\ 0 & 0 & -2 \\\\ 0 & 0 & 2 \\end{bmatrix}$$  \n",
    "Now we're stuck, because we have two 0 pivots that we can't exchange."
   ]
  },
  {
   "cell_type": "code",
   "execution_count": null,
   "metadata": {},
   "outputs": [],
   "source": []
  }
 ],
 "metadata": {
  "kernelspec": {
   "display_name": "Python 3",
   "language": "python",
   "name": "python3"
  },
  "language_info": {
   "codemirror_mode": {
    "name": "ipython",
    "version": 3
   },
   "file_extension": ".py",
   "mimetype": "text/x-python",
   "name": "python",
   "nbconvert_exporter": "python",
   "pygments_lexer": "ipython3",
   "version": "3.8.5"
  }
 },
 "nbformat": 4,
 "nbformat_minor": 4
}
