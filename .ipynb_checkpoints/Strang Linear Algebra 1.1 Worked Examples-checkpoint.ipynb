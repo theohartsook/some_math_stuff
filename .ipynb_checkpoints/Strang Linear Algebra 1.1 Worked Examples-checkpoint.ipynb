{
 "cells": [
  {
   "cell_type": "markdown",
   "metadata": {},
   "source": [
    "## 1.1A\n"
   ]
  },
  {
   "cell_type": "code",
   "execution_count": null,
   "metadata": {},
   "outputs": [],
   "source": []
  },
  {
   "cell_type": "markdown",
   "metadata": {},
   "source": [
    "## 1.1B\n",
    "**Question:** For *v* = (1,0) and *w* = (0,1), describe all points *cv* with (**1**) *whole numbers c* (**2**) *nonnegative* numbers *c* ≥ 0. Then add all vectors *dw* abd describe all *cv* + *dw*."
   ]
  },
  {
   "cell_type": "code",
   "execution_count": 12,
   "metadata": {},
   "outputs": [],
   "source": [
    "# import necessary libraries\n",
    "import numpy as np\n",
    "import matplotlib.pyplot as plt\n",
    "\n",
    "# for convenience I'm restricting the visualization from -5 to 5\n",
    "xmin = -5\n",
    "xmax = 6"
   ]
  },
  {
   "cell_type": "markdown",
   "metadata": {},
   "source": [
    "**Step 1** All whole numbers *c*. This is all integers from *-∞* to *∞*. *c1* in legend.\n",
    "\n",
    "I used this to set up my number line. https://stackoverflow.com/questions/23186804/graph-point-on-straight-line-number-line-in-python"
   ]
  },
  {
   "cell_type": "code",
   "execution_count": 13,
   "metadata": {},
   "outputs": [
    {
     "data": {
      "text/plain": [
       "<matplotlib.legend.Legend at 0x7fb7a0384310>"
      ]
     },
     "execution_count": 13,
     "metadata": {},
     "output_type": "execute_result"
    },
    {
     "data": {
      "image/png": "[encoded data removed]",
      "text/plain": [
       "<Figure size 432x288 with 1 Axes>"
      ]
     },
     "metadata": {
      "needs_background": "light"
     },
     "output_type": "display_data"
    }
   ],
   "source": [
    "int_c = list(range(xmin, xmax, 1))\n",
    "y = [0] * len(int_c)\n",
    "\n",
    "for x in int_c:\n",
    "    plt.annotate(x,\n",
    "                 (x,0),\n",
    "                 textcoords='offset points',\n",
    "                 xytext=(0,-15),\n",
    "                 ha='center')\n",
    "    \n",
    "plt.vlines(0,0,1)\n",
    "plt.plot(int_c,y,'o',color='r',label='c1')\n",
    "\n",
    "plt.hlines(0,-6,6,color='k',linestyle='dotted',label='x-axis')\n",
    "plt.vlines(0,0,1,color='k',label='0')\n",
    "plt.xlim(-5.5,5.5)\n",
    "plt.ylim(-1, 10)\n",
    "plt.axis('off')\n",
    "plt.legend()"
   ]
  },
  {
   "cell_type": "markdown",
   "metadata": {},
   "source": [
    "**Step 2** *Nonnegative* numbers *c* ≥ 0. This is the right half of the number line. *c2* in legend."
   ]
  },
  {
   "cell_type": "code",
   "execution_count": 14,
   "metadata": {},
   "outputs": [
    {
     "data": {
      "text/plain": [
       "<matplotlib.legend.Legend at 0x7fb7a04ade20>"
      ]
     },
     "execution_count": 14,
     "metadata": {},
     "output_type": "execute_result"
    },
    {
     "data": {
      "image/png": "[encoded data removed]",
      "text/plain": [
       "<Figure size 432x288 with 1 Axes>"
      ]
     },
     "metadata": {
      "needs_background": "light"
     },
     "output_type": "display_data"
    }
   ],
   "source": [
    "pos_c = list(range(0, xmax, 1))\n",
    "y = [0] * len(pos_c)\n",
    "\n",
    "for x in int_c:\n",
    "    plt.annotate(x,\n",
    "                 (x,0),\n",
    "                 textcoords='offset points',\n",
    "                 xytext=(0,-15),\n",
    "                 ha='center')\n",
    "    \n",
    "plt.plot(pos_c, y,'-',color='r',label='c2')\n",
    "plt.hlines(0,-6,6,color='k',linestyle='dotted',label='x-axis')\n",
    "plt.vlines(0,0,1,color='k',label='0')\n",
    "plt.xlim(-5.5,5.5)\n",
    "plt.ylim(-1, 10)\n",
    "plt.axis('off')\n",
    "plt.legend()"
   ]
  },
  {
   "cell_type": "markdown",
   "metadata": {},
   "source": [
    "**Step 3** All points in *c*. This is the combination of *c1* and *c2*, i.e. every integer from 0 to *∞*. *c* in legend. Because *v* = (1,0), this also describes *cv*."
   ]
  },
  {
   "cell_type": "code",
   "execution_count": 15,
   "metadata": {},
   "outputs": [
    {
     "data": {
      "text/plain": [
       "<matplotlib.legend.Legend at 0x7fb79ff5a940>"
      ]
     },
     "execution_count": 15,
     "metadata": {},
     "output_type": "execute_result"
    },
    {
     "data": {
      "image/png": "[encoded data removed]",
      "text/plain": [
       "<Figure size 432x288 with 1 Axes>"
      ]
     },
     "metadata": {
      "needs_background": "light"
     },
     "output_type": "display_data"
    }
   ],
   "source": [
    "pos_int_c = [x for x in int_c if x >= 0]\n",
    "y = [0] * len(pos_int_c)\n",
    "\n",
    "for x in int_c:\n",
    "    plt.annotate(x,\n",
    "                 (x,0),\n",
    "                 textcoords='offset points',\n",
    "                 xytext=(0,-15),\n",
    "                 ha='center')\n",
    "\n",
    "plt.plot(pos_int_c,y,'o',color='r',label='c')\n",
    "plt.hlines(0,-6,6,color='k',linestyle='dotted',label='x-axis')\n",
    "plt.vlines(0,0,1,color='k',label='0')\n",
    "plt.xlim(-5.5,5.5)\n",
    "plt.ylim(-1, 10)\n",
    "plt.axis('off')\n",
    "plt.legend()"
   ]
  },
  {
   "cell_type": "markdown",
   "metadata": {},
   "source": [
    "**Step 4**. Add all vectors *dw* and describe *cv* + *dw*. Because *w* = (0,1), it will extend a vertical line at every point in *cv*. "
   ]
  },
  {
   "cell_type": "code",
   "execution_count": 16,
   "metadata": {},
   "outputs": [
    {
     "data": {
      "text/plain": [
       "<matplotlib.legend.Legend at 0x7fb79fb9f6d0>"
      ]
     },
     "execution_count": 16,
     "metadata": {},
     "output_type": "execute_result"
    },
    {
     "data": {
      "image/png": "[encoded data removed]",
      "text/plain": [
       "<Figure size 432x288 with 1 Axes>"
      ]
     },
     "metadata": {
      "needs_background": "light"
     },
     "output_type": "display_data"
    }
   ],
   "source": [
    "legend_flag = False\n",
    "for x in pos_int_c:\n",
    "    if legend_flag == False:\n",
    "        plt.axvline(x,color='b',label='d')\n",
    "        legend_flag = True\n",
    "    else:\n",
    "        plt.axvline(x,color='b')\n",
    "        \n",
    "for x in int_c:\n",
    "    plt.annotate(x,\n",
    "                 (x,0),\n",
    "                 textcoords='offset points',\n",
    "                 xytext=(0,-15),\n",
    "                 ha='left')\n",
    "    \n",
    "plt.plot(pos_int_c,y,'o',color='r',label='c')    \n",
    "plt.hlines(0,-6,6,color='k',linestyle='dotted',label='x-axis')\n",
    "plt.vlines(0,0,1,color='k',label='0')\n",
    "plt.xlim(-5.5,5.5)\n",
    "plt.ylim(-1, 10)\n",
    "plt.axis('off')\n",
    "plt.legend()\n"
   ]
  },
  {
   "cell_type": "code",
   "execution_count": null,
   "metadata": {},
   "outputs": [],
   "source": []
  },
  {
   "cell_type": "code",
   "execution_count": null,
   "metadata": {},
   "outputs": [],
   "source": []
  },
  {
   "cell_type": "code",
   "execution_count": null,
   "metadata": {},
   "outputs": [],
   "source": []
  }
 ],
 "metadata": {
  "kernelspec": {
   "display_name": "Python 3",
   "language": "python",
   "name": "python3"
  },
  "language_info": {
   "codemirror_mode": {
    "name": "ipython",
    "version": 3
   },
   "file_extension": ".py",
   "mimetype": "text/x-python",
   "name": "python",
   "nbconvert_exporter": "python",
   "pygments_lexer": "ipython3",
   "version": "3.8.5"
  }
 },
 "nbformat": 4,
 "nbformat_minor": 4
}
