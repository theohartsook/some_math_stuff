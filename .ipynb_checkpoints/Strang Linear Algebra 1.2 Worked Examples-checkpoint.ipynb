{
 "cells": [
  {
   "cell_type": "markdown",
   "metadata": {},
   "source": [
    "## 1.2A\n",
    "**Question:** For the vectors *v* = (3,4) and *w* = (4,3) test the Schwarz inequality on *v* · *w* and the triangle inequality on ||*v* + *w*||. Find cos𝜃 for the angle between *v* and *w*. Which *v* and *w* give equality |*v* · *w*| = ||*v*|| ||*w*|| and ||*v* + *w*|| = ||*v*|| + ||*w*||?"
   ]
  },
  {
   "cell_type": "code",
   "execution_count": 33,
   "metadata": {},
   "outputs": [],
   "source": [
    "# import necessary libraries and initialize v and w.\n",
    "import numpy as np\n",
    "\n",
    "v = [3,4]\n",
    "w = [4,3]"
   ]
  },
  {
   "cell_type": "markdown",
   "metadata": {},
   "source": [
    "The Schwarz inequality is |*v* · *w*| ≤ ||*v*|| ||*w*||. The length of ||*v*|| is *v*/|*v* · *v*|. We can use the np.dot and np.linalg.norm functions to calculate these."
   ]
  },
  {
   "cell_type": "code",
   "execution_count": 34,
   "metadata": {},
   "outputs": [
    {
     "name": "stdout",
     "output_type": "stream",
     "text": [
      "24 <= 5.0 * 5.0\n",
      "24 <= 25.0\n",
      "True\n"
     ]
    }
   ],
   "source": [
    "v_w_dot = np.dot(v,w)\n",
    "v_len = np.linalg.norm(v)\n",
    "w_len = np.linalg.norm(w)\n",
    "\n",
    "print(v_w_dot, \"<=\", v_len, \"*\", w_len)\n",
    "print(v_w_dot, \"<=\", v_len * w_len)\n",
    "print(v_w_sum_len <= v_len * w_len)"
   ]
  },
  {
   "cell_type": "markdown",
   "metadata": {},
   "source": [
    "The triangle inequality is ||*v* + *w*|| ≤ ||*v*|| + ||*w*||."
   ]
  },
  {
   "cell_type": "code",
   "execution_count": 44,
   "metadata": {},
   "outputs": [
    {
     "name": "stdout",
     "output_type": "stream",
     "text": [
      "9.899494936611665 <= 5.0 + 5.0\n",
      "9.899494936611665 <= 10.0\n",
      "True\n"
     ]
    }
   ],
   "source": [
    "v_w_sum_len = np.linalg.norm(np.add(v,w))\n",
    "\n",
    "print(v_w_sum_len, \"<=\", v_len, \"+\", w_len)\n",
    "print(v_w_sum_len, \"<=\", v_len + w_len)\n",
    "print(v_w_sum_len <= v_len + w_len)"
   ]
  },
  {
   "cell_type": "markdown",
   "metadata": {},
   "source": [
    "The cosine of 𝜃 is equal to the dot product of *v* and *w* divided by the lengths of *v* and *w*."
   ]
  },
  {
   "cell_type": "code",
   "execution_count": 36,
   "metadata": {},
   "outputs": [
    {
     "name": "stdout",
     "output_type": "stream",
     "text": [
      "24 / 25.0\n",
      "0.96\n"
     ]
    }
   ],
   "source": [
    "cos_theta = v_w_dot/(v_len*w_len)\n",
    "\n",
    "print(v_w_dot, '/', v_len*w_len)\n",
    "print(cos_theta)"
   ]
  },
  {
   "cell_type": "markdown",
   "metadata": {},
   "source": [
    "*v* and *w* give equality when *w* is a multiple of *v*. We can check this by using *v* = (2,0) and *w* = (4,0). The Schwarz inequality:"
   ]
  },
  {
   "cell_type": "code",
   "execution_count": 47,
   "metadata": {},
   "outputs": [
    {
     "name": "stdout",
     "output_type": "stream",
     "text": [
      "8 <= 2.0 * 4.0\n",
      "8 <= 8.0\n",
      "True\n"
     ]
    }
   ],
   "source": [
    "eq_v = [2,0]\n",
    "eq_w = [4,0]\n",
    "\n",
    "eq_v_eq_w_dot = np.dot(eq_v,eq_w)\n",
    "eq_v_len = np.linalg.norm(eq_v)\n",
    "eq_w_len = np.linalg.norm(eq_w)\n",
    "\n",
    "print(eq_v_eq_w_dot, \"<=\", eq_v_len, \"*\", eq_w_len)\n",
    "print(eq_v_eq_w_dot, \"<=\", eq_v_len * eq_w_len)\n",
    "print(eq_v_eq_w_dot <= eq_v_len * eq_w_len)"
   ]
  },
  {
   "cell_type": "markdown",
   "metadata": {},
   "source": [
    "The triangle inequality:"
   ]
  },
  {
   "cell_type": "code",
   "execution_count": 48,
   "metadata": {},
   "outputs": [
    {
     "name": "stdout",
     "output_type": "stream",
     "text": [
      "6.0 <= 2.0 + 4.0\n",
      "6.0 <= 6.0\n",
      "True\n"
     ]
    }
   ],
   "source": [
    "eq_v_eq_w_sum_len = np.linalg.norm(np.add(eq_v,eq_w))\n",
    "\n",
    "print(eq_v_eq_w_sum_len, \"<=\", eq_v_len, \"+\", eq_w_len)\n",
    "print(eq_v_eq_w_sum_len, \"<=\", eq_v_len + eq_w_len)\n",
    "print(eq_v_eq_w_sum_len <= eq_v_len + eq_w_len)"
   ]
  },
  {
   "cell_type": "markdown",
   "metadata": {},
   "source": [
    "## 1.2B\n",
    "**Question:** Find a unit vector *u* in the direction of *v* = (3,4). Find a unit vector *U* that is perpendicular to *u*. How many possibilities for *U*?"
   ]
  },
  {
   "cell_type": "code",
   "execution_count": 52,
   "metadata": {},
   "outputs": [],
   "source": [
    "# Initialize v\n",
    "v = [3,4]"
   ]
  },
  {
   "cell_type": "markdown",
   "metadata": {},
   "source": [
    "A unit vector *u* can be found with this formula *u* = *v*/||*v*||."
   ]
  },
  {
   "cell_type": "code",
   "execution_count": 53,
   "metadata": {},
   "outputs": [
    {
     "name": "stdout",
     "output_type": "stream",
     "text": [
      "[0.6 0.8]\n"
     ]
    }
   ],
   "source": [
    "v_len = np.linalg.norm(v)\n",
    "u = v/v_len\n",
    "\n",
    "print(u)"
   ]
  },
  {
   "cell_type": "markdown",
   "metadata": {},
   "source": [
    "A vector *U* is perpendicular to *u* when *u* · *U* = 0.  We can find *U* by multiplying one element in *u* by -1 and flipping it."
   ]
  },
  {
   "cell_type": "code",
   "execution_count": 66,
   "metadata": {
    "scrolled": true
   },
   "outputs": [
    {
     "name": "stdout",
     "output_type": "stream",
     "text": [
      "u * U = 0\n",
      "[0.6 0.8] * [ 0.8 -0.6] = 0\n",
      "True\n"
     ]
    }
   ],
   "source": [
    "U = u.copy()\n",
    "U[0] = U[0] * -1\n",
    "U = np.flip(U)\n",
    "\n",
    "u_U_dot = np.dot(u,U)\n",
    "print(\"u * U = 0\")\n",
    "print(u, \"*\", U, \"=\", 0)\n",
    "print(u_U_dot == 0)"
   ]
  },
  {
   "cell_type": "markdown",
   "metadata": {},
   "source": [
    "There are two possibilites for *U*: either 90 degrees or 270 degrees. We can find the other value for * by multipling the other element by -1 instead."
   ]
  },
  {
   "cell_type": "code",
   "execution_count": 67,
   "metadata": {},
   "outputs": [
    {
     "name": "stdout",
     "output_type": "stream",
     "text": [
      "u * U = 0\n",
      "[0.6 0.8] * [-0.8  0.6] = 0\n",
      "True\n"
     ]
    }
   ],
   "source": [
    "U = u.copy()\n",
    "U[1] = U[1] * -1\n",
    "U = np.flip(U)\n",
    "\n",
    "u_U_dot = np.dot(u,U)\n",
    "print(\"u * U = 0\")\n",
    "print(u, \"*\", U, \"=\", 0)\n",
    "print(u_U_dot == 0)"
   ]
  },
  {
   "cell_type": "markdown",
   "metadata": {},
   "source": [
    "## 1.2C\n",
    "**Question:** Find a vector *x* = (*c*,*d*) that has dot products *x* · *r* = 1 and *x* · *s* = 0 with two given vectors *r* = (2,-1) and *s* = (-1,2)."
   ]
  },
  {
   "cell_type": "code",
   "execution_count": null,
   "metadata": {},
   "outputs": [],
   "source": [
    "# Initialize r and s\n",
    "r = [2,-1]\n",
    "s= [-1,2]"
   ]
  },
  {
   "cell_type": "markdown",
   "metadata": {},
   "source": [
    "We know that *x* must be perpendicular to *s* and parallel with *r*. We can set this up as a system of equations consisting of the two dot products.  \n",
    "*x* · *r* = 1  \n",
    "*c* * 2 + *d* * -1 = 1  \n",
    "  \n",
    "*x* · *s* = 0  \n",
    "*c* * -1 + *d* * 2 = 0"
   ]
  },
  {
   "cell_type": "markdown",
   "metadata": {},
   "source": [
    "This ends up being identical to the problem from 1.1C.  \n",
    "*c* = 2/3  \n",
    "*d* = 1/3"
   ]
  }
 ],
 "metadata": {
  "kernelspec": {
   "display_name": "Python 3",
   "language": "python",
   "name": "python3"
  },
  "language_info": {
   "codemirror_mode": {
    "name": "ipython",
    "version": 3
   },
   "file_extension": ".py",
   "mimetype": "text/x-python",
   "name": "python",
   "nbconvert_exporter": "python",
   "pygments_lexer": "ipython3",
   "version": "3.8.5"
  }
 },
 "nbformat": 4,
 "nbformat_minor": 4
}
