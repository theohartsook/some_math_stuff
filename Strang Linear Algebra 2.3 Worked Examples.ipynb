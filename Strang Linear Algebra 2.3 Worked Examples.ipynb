{
 "cells": [
  {
   "cell_type": "markdown",
   "metadata": {},
   "source": [
    "## 2.3A\n",
    "**Question:** What 3 by 3 matrix *E*<sub>21</sub> subtracts 4 times row 1 from row 2? What matrix *P*<sub>32</sub> exchanges row 2 and row 3? If you multiply *A* on the right instead of the left, describe the results *AE*<sub>21</sub> and *AP*<sub>32</sub>."
   ]
  },
  {
   "cell_type": "markdown",
   "metadata": {},
   "source": [
    "Strang uses the identity matrix *I* to find these matrices. To subtract 4 times row 1 from row 2, we can set *I*<sub>21</sub> to -4. To exchange rows 2 and 3, we can simply swap their positions in *I*.  \n",
    "$$E_{21}= \\begin{bmatrix} 1 & 0 & 0 \\\\ -4 & 1 & 0 \\\\ 0 & 0 & 1 \\end{bmatrix}$$  \n",
    "$$P_{32}= \\begin{bmatrix} 1 & 0 & 0 \\\\ 0 & 0 & 1 \\\\ 0 & 1 & 0 \\end{bmatrix}$$  "
   ]
  },
  {
   "cell_type": "code",
   "execution_count": 83,
   "metadata": {},
   "outputs": [
    {
     "name": "stdout",
     "output_type": "stream",
     "text": [
      "A\n",
      "[1 2 3]\n",
      "[4 5 6]\n",
      "[7 8 9]\n",
      "\n",
      "\n",
      "E\n",
      "[1 0 0]\n",
      "[-4  1  0]\n",
      "[0 0 1]\n",
      "\n",
      "\n",
      "P\n",
      "[1 0 0]\n",
      "[0 0 1]\n",
      "[0 1 0]\n",
      "\n",
      "\n"
     ]
    }
   ],
   "source": [
    "# Import necessary libraries\n",
    "import numpy as np\n",
    "\n",
    "def printArray(a, title=None):\n",
    "    # Convenience function to print the array values.\n",
    "    num_rows, num_cols = a.shape\n",
    "    if title:\n",
    "        print(title)\n",
    "    for i in range(0,num_rows):\n",
    "        print(a[i][:])\n",
    "    print('\\n')\n",
    "\n",
    "# Initialize A\n",
    "A = np.array([[1,2,3],[4,5,6],[7,8,9]])\n",
    "printArray(A, 'A')\n",
    "\n",
    "# Initialize E21\n",
    "E = np.array([[1,0,0],[-4,1,0],[0,0,1]])\n",
    "printArray(E, 'E')\n",
    "\n",
    "# Initialize P32\n",
    "P = np.array([[1,0,0],[0,0,1],[0,1,0]])\n",
    "printArray(P, 'P')"
   ]
  },
  {
   "cell_type": "markdown",
   "metadata": {},
   "source": [
    "First, let's show the results of *E*<sub>21</sub>*A* and *P*<sub>32</sub>*A*."
   ]
  },
  {
   "cell_type": "code",
   "execution_count": 84,
   "metadata": {},
   "outputs": [
    {
     "name": "stdout",
     "output_type": "stream",
     "text": [
      "EA\n",
      "[1 2 3]\n",
      "[ 0 -3 -6]\n",
      "[7 8 9]\n",
      "\n",
      "\n",
      "PA\n",
      "[1 2 3]\n",
      "[7 8 9]\n",
      "[4 5 6]\n",
      "\n",
      "\n"
     ]
    }
   ],
   "source": [
    "EA = np.matmul(E,A)\n",
    "printArray(EA, 'EA')\n",
    "\n",
    "PA = np.matmul(P,A)\n",
    "printArray(PA, 'PA')"
   ]
  },
  {
   "cell_type": "markdown",
   "metadata": {},
   "source": [
    "Now, the results of *AE*<sub>21</sub> and *AP*<sub>32</sub>."
   ]
  },
  {
   "cell_type": "code",
   "execution_count": 85,
   "metadata": {},
   "outputs": [
    {
     "name": "stdout",
     "output_type": "stream",
     "text": [
      "AE\n",
      "[-7  2  3]\n",
      "[-16   5   6]\n",
      "[-25   8   9]\n",
      "\n",
      "\n",
      "AP\n",
      "[1 3 2]\n",
      "[4 6 5]\n",
      "[7 9 8]\n",
      "\n",
      "\n"
     ]
    }
   ],
   "source": [
    "AE = np.matmul(A,E)\n",
    "printArray(AE, 'AE')\n",
    "\n",
    "AP = np.matmul(A,P)\n",
    "printArray(AP, 'AP')"
   ]
  },
  {
   "cell_type": "markdown",
   "metadata": {},
   "source": [
    "As we can see, the commutative property doesn't apply to matrices. Note: this is another example of why I'm glad I turn these into Jupyter notebooks. I had a much harder time trying to write this out and follow along, but the visualization has helped a lot."
   ]
  },
  {
   "cell_type": "markdown",
   "metadata": {},
   "source": [
    "## 2.3B\n",
    "**Question:** Write down the augmented matrix [*A* *b*] with an extra column:\n",
    "$$\\begin{array}{ccc} x +& 2y + 2z = 1 \\\\ 4x +& 8y + 9z = 3 \\\\ & 3y + 2z = 1\\end{array}$$  \n",
    "Apply *E*<sub>21</sub> and then *P*<sub>32</sub> to reach a triangular system. Solve by back substituion. What combined matrix *P*<sub>32</sub>*E*<sub>21</sub> will do both steps at once?"
   ]
  },
  {
   "cell_type": "code",
   "execution_count": 86,
   "metadata": {},
   "outputs": [
    {
     "name": "stdout",
     "output_type": "stream",
     "text": [
      "A\n",
      "[1 2 2 1]\n",
      "[4 8 9 3]\n",
      "[0 3 2 1]\n",
      "\n",
      "\n",
      "EA\n",
      "[1 2 2 1]\n",
      "[ 0  0  1 -1]\n",
      "[0 3 2 1]\n",
      "\n",
      "\n",
      "PA\n",
      "[1 2 2 1]\n",
      "[0 3 2 1]\n",
      "[ 0  0  1 -1]\n",
      "\n",
      "\n"
     ]
    }
   ],
   "source": [
    "# Initialize A\n",
    "A = np.array([[1,2,2,1],[4,8,9,3],[0,3,2,1]])\n",
    "printArray(A, 'A')\n",
    "\n",
    "# Apply E21\n",
    "EA = np.matmul(E,A)\n",
    "printArray(EA, 'EA')\n",
    "\n",
    "# Apply P32\n",
    "PA = np.matmul(P,EA)\n",
    "printArray(PA, 'PA')"
   ]
  },
  {
   "cell_type": "markdown",
   "metadata": {},
   "source": [
    "This shows that *z*=-1, *y*=1, and *x*=1. To combine the matrices we can multiply them together: *P*<sub>32</sub>*E*<sub>21</sub> = *U*. We can see that *AU* gives us the identical answer."
   ]
  },
  {
   "cell_type": "code",
   "execution_count": 87,
   "metadata": {},
   "outputs": [
    {
     "name": "stdout",
     "output_type": "stream",
     "text": [
      "UA\n",
      "[1 2 2 1]\n",
      "[0 3 2 1]\n",
      "[ 0  0  1 -1]\n",
      "\n",
      "\n",
      "PA\n",
      "[1 2 2 1]\n",
      "[0 3 2 1]\n",
      "[ 0  0  1 -1]\n",
      "\n",
      "\n"
     ]
    }
   ],
   "source": [
    "U = np.matmul(P,E)\n",
    "\n",
    "UA = np.matmul(U,A)\n",
    "printArray(UA, 'UA')\n",
    "\n",
    "printArray(PA, 'PA')"
   ]
  },
  {
   "cell_type": "markdown",
   "metadata": {},
   "source": [
    "## 2.3C\n",
    "**Question:** Multiply these matrices in two ways. First, rows of *A* times columns of *B*. Second, columns of *A* times rows of *B*. That unusual way produces two matrices that add to *AB*. How many separate ordinary multiplcations are needed?"
   ]
  },
  {
   "cell_type": "code",
   "execution_count": 88,
   "metadata": {},
   "outputs": [
    {
     "name": "stdout",
     "output_type": "stream",
     "text": [
      "A\n",
      "[3 4]\n",
      "[1 5]\n",
      "[2 0]\n",
      "\n",
      "\n",
      "B\n",
      "[2 4]\n",
      "[1 1]\n",
      "\n",
      "\n",
      "AB\n",
      "[10 16]\n",
      "[7 9]\n",
      "[4 8]\n",
      "\n",
      "\n"
     ]
    }
   ],
   "source": [
    "# Initialize A\n",
    "A = np.array([[3,4],[1,5],[2,0]])\n",
    "printArray(A, 'A')\n",
    "\n",
    "# Initialize B\n",
    "B = np.array([[2,4],[1,1]])\n",
    "printArray(B, 'B')\n",
    "\n",
    "AB = np.matmul(A,B)\n",
    "printArray(AB, 'AB')"
   ]
  },
  {
   "cell_type": "markdown",
   "metadata": {},
   "source": [
    "The first way is rows of *A* times columns of *B*. This means we will need to calculate 6 dot products (3 rows * 2 columns), which means we need to do 12 multiplications total (3 * 2 * 2). Each dot product will be one element in the output matrix *C*. The dot product of *A*<sub>1,</sub> and *B*<sub>,1</sub> will be *C*<sub>11</sub>, the dot product of *A*<sub>2,</sub> and *B*<sub>,1</sub> will be *C*<sub>21</sub>, and so on. Note: I'm copying Strang's format instead of using 0 based indexing in my variable names, but I'm still using 0 based indexing to slice, because it's Python."
   ]
  },
  {
   "cell_type": "code",
   "execution_count": 89,
   "metadata": {},
   "outputs": [
    {
     "name": "stdout",
     "output_type": "stream",
     "text": [
      "C\n",
      "[10 16]\n",
      "[7 9]\n",
      "[4 8]\n",
      "\n",
      "\n"
     ]
    }
   ],
   "source": [
    "# Rows of A times columns of B\n",
    "\n",
    "# first we calculate a dot product for each element of the matrix\n",
    "c_11 = np.dot(A[0,:],B[:,0])\n",
    "c_21 = np.dot(A[1,:],B[:,0])\n",
    "c_31 = np.dot(A[2,:],B[:,0])\n",
    "\n",
    "c_12 = np.dot(A[0,:],B[:,1])\n",
    "c_22 = np.dot(A[1,:],B[:,1])\n",
    "c_32 = np.dot(A[2,:],B[:,1])\n",
    "\n",
    "# assemble elements into their matrix\n",
    "C = np.array([[c_11, c_12], [c_21, c_22], [c_31, c_32]])\n",
    "printArray(C, 'C')"
   ]
  },
  {
   "cell_type": "markdown",
   "metadata": {},
   "source": [
    "The second way is columns of *A* times rows of *B*. This means we just need to do two matrix multiplications and add them together to get the matrix *D*: *A*<sub>,1</sub> * *B*<sub>1,</sub> + *A*<sub>,2</sub> * *B*<sub>2,</sub>."
   ]
  },
  {
   "cell_type": "code",
   "execution_count": 90,
   "metadata": {},
   "outputs": [
    {
     "name": "stdout",
     "output_type": "stream",
     "text": [
      "d1\n",
      "[ 6 12]\n",
      "[2 4]\n",
      "[4 8]\n",
      "\n",
      "\n",
      "d2\n",
      "[4 4]\n",
      "[5 5]\n",
      "[0 0]\n",
      "\n",
      "\n",
      "D\n",
      "[10 16]\n",
      "[7 9]\n",
      "[4 8]\n",
      "\n",
      "\n"
     ]
    }
   ],
   "source": [
    "# Columns of A times rows of B\n",
    "\n",
    "# Let's extract the columns and rows we need\n",
    "# and reshape them for matmul\n",
    "c1 = np.reshape(A[:,0], (3,1))\n",
    "c2 = np.reshape(A[:,1], (3,1))\n",
    "\n",
    "r1 = np.reshape(B[0,:], (1,2))\n",
    "r2 = np.reshape(B[1,:], (1,2))\n",
    "\n",
    "\n",
    "# get the two matrices\n",
    "d_1 = np.matmul(c1,r1)\n",
    "d_2 = np.matmul(c2,r2)\n",
    "printArray(d_1, 'd1')\n",
    "printArray(d_2, 'd2')\n",
    "\n",
    "# add them together\n",
    "D = d_1 + d_2\n",
    "printArray(D, 'D')\n"
   ]
  },
  {
   "cell_type": "markdown",
   "metadata": {},
   "source": [
    "Finally, let's prove that all these matrices are the same: *AB* (matrix multiplication of a 3x2 with a 2x2), *C* (rows of *A* times columns of *B*), and *D* (columns of *A* times rows of *B*)."
   ]
  },
  {
   "cell_type": "code",
   "execution_count": 91,
   "metadata": {},
   "outputs": [
    {
     "name": "stdout",
     "output_type": "stream",
     "text": [
      "AB\n",
      "[10 16]\n",
      "[7 9]\n",
      "[4 8]\n",
      "\n",
      "\n",
      "C\n",
      "[10 16]\n",
      "[7 9]\n",
      "[4 8]\n",
      "\n",
      "\n",
      "D\n",
      "[10 16]\n",
      "[7 9]\n",
      "[4 8]\n",
      "\n",
      "\n"
     ]
    }
   ],
   "source": [
    "printArray(AB, 'AB')\n",
    "printArray(C, 'C')\n",
    "printArray(D, 'D')"
   ]
  },
  {
   "cell_type": "code",
   "execution_count": null,
   "metadata": {},
   "outputs": [],
   "source": []
  },
  {
   "cell_type": "code",
   "execution_count": null,
   "metadata": {},
   "outputs": [],
   "source": []
  }
 ],
 "metadata": {
  "kernelspec": {
   "display_name": "Python 3",
   "language": "python",
   "name": "python3"
  },
  "language_info": {
   "codemirror_mode": {
    "name": "ipython",
    "version": 3
   },
   "file_extension": ".py",
   "mimetype": "text/x-python",
   "name": "python",
   "nbconvert_exporter": "python",
   "pygments_lexer": "ipython3",
   "version": "3.8.5"
  }
 },
 "nbformat": 4,
 "nbformat_minor": 4
}
